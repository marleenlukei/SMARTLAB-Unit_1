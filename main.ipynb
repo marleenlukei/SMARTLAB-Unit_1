{
 "cells": [
  {
   "cell_type": "markdown",
   "metadata": {},
   "source": [
    "### Imports"
   ]
  },
  {
   "cell_type": "code",
   "execution_count": 1,
   "metadata": {},
   "outputs": [
    {
     "name": "stderr",
     "output_type": "stream",
     "text": [
      "[nltk_data] Downloading package punkt to\n",
      "[nltk_data]     C:\\Users\\marle\\AppData\\Roaming\\nltk_data...\n",
      "[nltk_data]   Package punkt is already up-to-date!\n"
     ]
    }
   ],
   "source": [
    "import preprocessing\n",
    "import pandas as pd\n",
    "import evaluation as evaluation\n",
    "from sklearn.model_selection import train_test_split\n",
    "import nltk\n",
    "import model\n",
    "from matplotlib import pyplot as plt\n",
    "from keras.callbacks import EarlyStopping, ReduceLROnPlateau\n",
    "nltk.download('punkt')\n",
    "import pandas as pd\n",
    "import zipfile\n",
    "import os\n",
    "from tensorflow.keras.preprocessing.sequence import pad_sequences\n",
    "from keras.models import load_model\n"
   ]
  },
  {
   "cell_type": "markdown",
   "metadata": {},
   "source": [
    "### Load Trainingdata"
   ]
  },
  {
   "cell_type": "code",
   "execution_count": 2,
   "metadata": {},
   "outputs": [
    {
     "data": {
      "text/html": [
       "<div>\n",
       "<style scoped>\n",
       "    .dataframe tbody tr th:only-of-type {\n",
       "        vertical-align: middle;\n",
       "    }\n",
       "\n",
       "    .dataframe tbody tr th {\n",
       "        vertical-align: top;\n",
       "    }\n",
       "\n",
       "    .dataframe thead th {\n",
       "        text-align: right;\n",
       "    }\n",
       "</style>\n",
       "<table border=\"1\" class=\"dataframe\">\n",
       "  <thead>\n",
       "    <tr style=\"text-align: right;\">\n",
       "      <th></th>\n",
       "      <th>raw</th>\n",
       "      <th>label</th>\n",
       "      <th>preprocessed</th>\n",
       "    </tr>\n",
       "  </thead>\n",
       "  <tbody>\n",
       "    <tr>\n",
       "      <th>0</th>\n",
       "      <td>Subject: nb real vallum , x . anax , l . evitr...</td>\n",
       "      <td>1</td>\n",
       "      <td>nb real vallum  x  anax  l  evitra   soma   m...</td>\n",
       "    </tr>\n",
       "    <tr>\n",
       "      <th>1</th>\n",
       "      <td>Subject: special investor update .\\r\\non janua...</td>\n",
       "      <td>1</td>\n",
       "      <td>special investor update   on january lst 2002...</td>\n",
       "    </tr>\n",
       "    <tr>\n",
       "      <th>2</th>\n",
       "      <td>Subject: younger and healthier with ultimate -...</td>\n",
       "      <td>1</td>\n",
       "      <td>younger and healthier with ultimate  hghl 728...</td>\n",
       "    </tr>\n",
       "    <tr>\n",
       "      <th>3</th>\n",
       "      <td>Subject: new employee\\r\\ni am pleased to annou...</td>\n",
       "      <td>0</td>\n",
       "      <td>new employee  i am pleased to announce that s...</td>\n",
       "    </tr>\n",
       "    <tr>\n",
       "      <th>4</th>\n",
       "      <td>Subject: fw : fserh hi roselution dvd movies\\r...</td>\n",
       "      <td>1</td>\n",
       "      <td>fw  fserh hi roselution dvd movies  hello   y...</td>\n",
       "    </tr>\n",
       "  </tbody>\n",
       "</table>\n",
       "</div>"
      ],
      "text/plain": [
       "                                                 raw  label  \\\n",
       "0  Subject: nb real vallum , x . anax , l . evitr...      1   \n",
       "1  Subject: special investor update .\\r\\non janua...      1   \n",
       "2  Subject: younger and healthier with ultimate -...      1   \n",
       "3  Subject: new employee\\r\\ni am pleased to annou...      0   \n",
       "4  Subject: fw : fserh hi roselution dvd movies\\r...      1   \n",
       "\n",
       "                                        preprocessed  \n",
       "0   nb real vallum  x  anax  l  evitra   soma   m...  \n",
       "1   special investor update   on january lst 2002...  \n",
       "2   younger and healthier with ultimate  hghl 728...  \n",
       "3   new employee  i am pleased to announce that s...  \n",
       "4   fw  fserh hi roselution dvd movies  hello   y...  "
      ]
     },
     "execution_count": 2,
     "metadata": {},
     "output_type": "execute_result"
    }
   ],
   "source": [
    "path = \"data\\spam1-train.zip\"\n",
    "input, labels,_ = preprocessing.load_data(path)\n",
    "df = pd.DataFrame({'raw': input, 'label': labels})\n",
    "df[\"preprocessed\"] = df[\"raw\"].copy()\n",
    "df[\"preprocessed\"] = df[\"preprocessed\"].apply(preprocessing.clean_data)\n",
    "df.head()"
   ]
  },
  {
   "cell_type": "markdown",
   "metadata": {},
   "source": [
    "### Split dataset"
   ]
  },
  {
   "cell_type": "code",
   "execution_count": 3,
   "metadata": {},
   "outputs": [],
   "source": [
    "train_X, test_X, train_Y, test_Y = train_test_split(df['preprocessed'],\n",
    "                                                    df['label'],\n",
    "                                                    test_size = 0.2,\n",
    "                                                    random_state = 42)"
   ]
  },
  {
   "cell_type": "markdown",
   "metadata": {},
   "source": [
    "### Prepare data for neural network"
   ]
  },
  {
   "cell_type": "code",
   "execution_count": 4,
   "metadata": {},
   "outputs": [],
   "source": [
    "max_len = 200 \n",
    "train_sequences, test_sequences, tokenizer = model.prepare_sequences(train_X, test_X,max_len)"
   ]
  },
  {
   "cell_type": "code",
   "execution_count": 108,
   "metadata": {},
   "outputs": [],
   "source": [
    "es = EarlyStopping(patience=6,\n",
    "                   monitor = 'val_accuracy',\n",
    "                   restore_best_weights = True)\n",
    " \n",
    "lr = ReduceLROnPlateau(patience = 6,\n",
    "                       monitor = 'val_loss',\n",
    "                       factor = 0.5,\n",
    "                       verbose = 0)"
   ]
  },
  {
   "cell_type": "code",
   "execution_count": 111,
   "metadata": {},
   "outputs": [
    {
     "data": {
      "text/html": [
       "<pre style=\"white-space:pre;overflow-x:auto;line-height:normal;font-family:Menlo,'DejaVu Sans Mono',consolas,'Courier New',monospace\"><span style=\"font-weight: bold\">Model: \"Spam_Model\"</span>\n",
       "</pre>\n"
      ],
      "text/plain": [
       "\u001b[1mModel: \"Spam_Model\"\u001b[0m\n"
      ]
     },
     "metadata": {},
     "output_type": "display_data"
    },
    {
     "data": {
      "text/html": [
       "<pre style=\"white-space:pre;overflow-x:auto;line-height:normal;font-family:Menlo,'DejaVu Sans Mono',consolas,'Courier New',monospace\">┏━━━━━━━━━━━━━━━━━━━━━━━━━━━━━━━━━┳━━━━━━━━━━━━━━━━━━━━━━━━┳━━━━━━━━━━━━━━━┓\n",
       "┃<span style=\"font-weight: bold\"> Layer (type)                    </span>┃<span style=\"font-weight: bold\"> Output Shape           </span>┃<span style=\"font-weight: bold\">       Param # </span>┃\n",
       "┡━━━━━━━━━━━━━━━━━━━━━━━━━━━━━━━━━╇━━━━━━━━━━━━━━━━━━━━━━━━╇━━━━━━━━━━━━━━━┩\n",
       "│ input_layer (<span style=\"color: #0087ff; text-decoration-color: #0087ff\">InputLayer</span>)        │ (<span style=\"color: #00d7ff; text-decoration-color: #00d7ff\">None</span>, <span style=\"color: #00af00; text-decoration-color: #00af00\">200</span>)            │             <span style=\"color: #00af00; text-decoration-color: #00af00\">0</span> │\n",
       "├─────────────────────────────────┼────────────────────────┼───────────────┤\n",
       "│ embedding_layer (<span style=\"color: #0087ff; text-decoration-color: #0087ff\">Embedding</span>)     │ (<span style=\"color: #00d7ff; text-decoration-color: #00d7ff\">None</span>, <span style=\"color: #00af00; text-decoration-color: #00af00\">200</span>, <span style=\"color: #00af00; text-decoration-color: #00af00\">100</span>)       │    <span style=\"color: #00af00; text-decoration-color: #00af00\">11,745,000</span> │\n",
       "├─────────────────────────────────┼────────────────────────┼───────────────┤\n",
       "│ lstm_layer (<span style=\"color: #0087ff; text-decoration-color: #0087ff\">LSTM</span>)               │ (<span style=\"color: #00d7ff; text-decoration-color: #00d7ff\">None</span>, <span style=\"color: #00af00; text-decoration-color: #00af00\">128</span>)            │       <span style=\"color: #00af00; text-decoration-color: #00af00\">117,248</span> │\n",
       "├─────────────────────────────────┼────────────────────────┼───────────────┤\n",
       "│ dense_layer (<span style=\"color: #0087ff; text-decoration-color: #0087ff\">Dense</span>)             │ (<span style=\"color: #00d7ff; text-decoration-color: #00d7ff\">None</span>, <span style=\"color: #00af00; text-decoration-color: #00af00\">64</span>)             │         <span style=\"color: #00af00; text-decoration-color: #00af00\">8,256</span> │\n",
       "├─────────────────────────────────┼────────────────────────┼───────────────┤\n",
       "│ dropout_layer (<span style=\"color: #0087ff; text-decoration-color: #0087ff\">Dropout</span>)         │ (<span style=\"color: #00d7ff; text-decoration-color: #00d7ff\">None</span>, <span style=\"color: #00af00; text-decoration-color: #00af00\">64</span>)             │             <span style=\"color: #00af00; text-decoration-color: #00af00\">0</span> │\n",
       "├─────────────────────────────────┼────────────────────────┼───────────────┤\n",
       "│ output_layer (<span style=\"color: #0087ff; text-decoration-color: #0087ff\">Dense</span>)            │ (<span style=\"color: #00d7ff; text-decoration-color: #00d7ff\">None</span>, <span style=\"color: #00af00; text-decoration-color: #00af00\">1</span>)              │            <span style=\"color: #00af00; text-decoration-color: #00af00\">65</span> │\n",
       "└─────────────────────────────────┴────────────────────────┴───────────────┘\n",
       "</pre>\n"
      ],
      "text/plain": [
       "┏━━━━━━━━━━━━━━━━━━━━━━━━━━━━━━━━━┳━━━━━━━━━━━━━━━━━━━━━━━━┳━━━━━━━━━━━━━━━┓\n",
       "┃\u001b[1m \u001b[0m\u001b[1mLayer (type)                   \u001b[0m\u001b[1m \u001b[0m┃\u001b[1m \u001b[0m\u001b[1mOutput Shape          \u001b[0m\u001b[1m \u001b[0m┃\u001b[1m \u001b[0m\u001b[1m      Param #\u001b[0m\u001b[1m \u001b[0m┃\n",
       "┡━━━━━━━━━━━━━━━━━━━━━━━━━━━━━━━━━╇━━━━━━━━━━━━━━━━━━━━━━━━╇━━━━━━━━━━━━━━━┩\n",
       "│ input_layer (\u001b[38;5;33mInputLayer\u001b[0m)        │ (\u001b[38;5;45mNone\u001b[0m, \u001b[38;5;34m200\u001b[0m)            │             \u001b[38;5;34m0\u001b[0m │\n",
       "├─────────────────────────────────┼────────────────────────┼───────────────┤\n",
       "│ embedding_layer (\u001b[38;5;33mEmbedding\u001b[0m)     │ (\u001b[38;5;45mNone\u001b[0m, \u001b[38;5;34m200\u001b[0m, \u001b[38;5;34m100\u001b[0m)       │    \u001b[38;5;34m11,745,000\u001b[0m │\n",
       "├─────────────────────────────────┼────────────────────────┼───────────────┤\n",
       "│ lstm_layer (\u001b[38;5;33mLSTM\u001b[0m)               │ (\u001b[38;5;45mNone\u001b[0m, \u001b[38;5;34m128\u001b[0m)            │       \u001b[38;5;34m117,248\u001b[0m │\n",
       "├─────────────────────────────────┼────────────────────────┼───────────────┤\n",
       "│ dense_layer (\u001b[38;5;33mDense\u001b[0m)             │ (\u001b[38;5;45mNone\u001b[0m, \u001b[38;5;34m64\u001b[0m)             │         \u001b[38;5;34m8,256\u001b[0m │\n",
       "├─────────────────────────────────┼────────────────────────┼───────────────┤\n",
       "│ dropout_layer (\u001b[38;5;33mDropout\u001b[0m)         │ (\u001b[38;5;45mNone\u001b[0m, \u001b[38;5;34m64\u001b[0m)             │             \u001b[38;5;34m0\u001b[0m │\n",
       "├─────────────────────────────────┼────────────────────────┼───────────────┤\n",
       "│ output_layer (\u001b[38;5;33mDense\u001b[0m)            │ (\u001b[38;5;45mNone\u001b[0m, \u001b[38;5;34m1\u001b[0m)              │            \u001b[38;5;34m65\u001b[0m │\n",
       "└─────────────────────────────────┴────────────────────────┴───────────────┘\n"
      ]
     },
     "metadata": {},
     "output_type": "display_data"
    },
    {
     "data": {
      "text/html": [
       "<pre style=\"white-space:pre;overflow-x:auto;line-height:normal;font-family:Menlo,'DejaVu Sans Mono',consolas,'Courier New',monospace\"><span style=\"font-weight: bold\"> Total params: </span><span style=\"color: #00af00; text-decoration-color: #00af00\">11,870,569</span> (45.28 MB)\n",
       "</pre>\n"
      ],
      "text/plain": [
       "\u001b[1m Total params: \u001b[0m\u001b[38;5;34m11,870,569\u001b[0m (45.28 MB)\n"
      ]
     },
     "metadata": {},
     "output_type": "display_data"
    },
    {
     "data": {
      "text/html": [
       "<pre style=\"white-space:pre;overflow-x:auto;line-height:normal;font-family:Menlo,'DejaVu Sans Mono',consolas,'Courier New',monospace\"><span style=\"font-weight: bold\"> Trainable params: </span><span style=\"color: #00af00; text-decoration-color: #00af00\">11,870,569</span> (45.28 MB)\n",
       "</pre>\n"
      ],
      "text/plain": [
       "\u001b[1m Trainable params: \u001b[0m\u001b[38;5;34m11,870,569\u001b[0m (45.28 MB)\n"
      ]
     },
     "metadata": {},
     "output_type": "display_data"
    },
    {
     "data": {
      "text/html": [
       "<pre style=\"white-space:pre;overflow-x:auto;line-height:normal;font-family:Menlo,'DejaVu Sans Mono',consolas,'Courier New',monospace\"><span style=\"font-weight: bold\"> Non-trainable params: </span><span style=\"color: #00af00; text-decoration-color: #00af00\">0</span> (0.00 B)\n",
       "</pre>\n"
      ],
      "text/plain": [
       "\u001b[1m Non-trainable params: \u001b[0m\u001b[38;5;34m0\u001b[0m (0.00 B)\n"
      ]
     },
     "metadata": {},
     "output_type": "display_data"
    }
   ],
   "source": [
    "# Define parameters\n",
    "input_dim = len(tokenizer.word_index) + 1  # Vocabulary size\n",
    "embedding_dim = 100  \n",
    "lstm_units = 128  \n",
    "dense_units = 64  \n",
    "max_len = 200  \n",
    "dropout_rate = 0.2  \n",
    "\n",
    "# Build the model\n",
    "spam_model = model.build_lstm_model(name=\"Spam_Model\", \n",
    "                          input_dim=input_dim, \n",
    "                          embedding_dim=embedding_dim, \n",
    "                          lstm_units=lstm_units, \n",
    "                          dense_units=dense_units, \n",
    "                          max_len=max_len, \n",
    "                          dropout_rate=dropout_rate)"
   ]
  },
  {
   "cell_type": "code",
   "execution_count": 112,
   "metadata": {},
   "outputs": [
    {
     "name": "stdout",
     "output_type": "stream",
     "text": [
      "Epoch 1/20\n",
      "\u001b[1m167/167\u001b[0m \u001b[32m━━━━━━━━━━━━━━━━━━━━\u001b[0m\u001b[37m\u001b[0m \u001b[1m68s\u001b[0m 377ms/step - accuracy: 0.5875 - loss: 0.6525 - val_accuracy: 0.6950 - val_loss: 0.5620 - learning_rate: 0.0010\n",
      "Epoch 2/20\n",
      "\u001b[1m167/167\u001b[0m \u001b[32m━━━━━━━━━━━━━━━━━━━━\u001b[0m\u001b[37m\u001b[0m \u001b[1m66s\u001b[0m 397ms/step - accuracy: 0.7375 - loss: 0.5192 - val_accuracy: 0.8890 - val_loss: 0.3184 - learning_rate: 0.0010\n",
      "Epoch 3/20\n",
      "\u001b[1m167/167\u001b[0m \u001b[32m━━━━━━━━━━━━━━━━━━━━\u001b[0m\u001b[37m\u001b[0m \u001b[1m66s\u001b[0m 393ms/step - accuracy: 0.8813 - loss: 0.3228 - val_accuracy: 0.9317 - val_loss: 0.2236 - learning_rate: 0.0010\n",
      "Epoch 4/20\n",
      "\u001b[1m167/167\u001b[0m \u001b[32m━━━━━━━━━━━━━━━━━━━━\u001b[0m\u001b[37m\u001b[0m \u001b[1m68s\u001b[0m 404ms/step - accuracy: 0.9416 - loss: 0.1901 - val_accuracy: 0.9842 - val_loss: 0.0638 - learning_rate: 0.0010\n",
      "Epoch 5/20\n",
      "\u001b[1m167/167\u001b[0m \u001b[32m━━━━━━━━━━━━━━━━━━━━\u001b[0m\u001b[37m\u001b[0m \u001b[1m62s\u001b[0m 373ms/step - accuracy: 0.9793 - loss: 0.0855 - val_accuracy: 0.9880 - val_loss: 0.0441 - learning_rate: 0.0010\n",
      "Epoch 6/20\n",
      "\u001b[1m167/167\u001b[0m \u001b[32m━━━━━━━━━━━━━━━━━━━━\u001b[0m\u001b[37m\u001b[0m \u001b[1m61s\u001b[0m 366ms/step - accuracy: 0.9903 - loss: 0.0447 - val_accuracy: 0.9884 - val_loss: 0.0495 - learning_rate: 0.0010\n",
      "Epoch 7/20\n",
      "\u001b[1m167/167\u001b[0m \u001b[32m━━━━━━━━━━━━━━━━━━━━\u001b[0m\u001b[37m\u001b[0m \u001b[1m58s\u001b[0m 345ms/step - accuracy: 0.9861 - loss: 0.0586 - val_accuracy: 0.9880 - val_loss: 0.0794 - learning_rate: 0.0010\n",
      "Epoch 8/20\n",
      "\u001b[1m167/167\u001b[0m \u001b[32m━━━━━━━━━━━━━━━━━━━━\u001b[0m\u001b[37m\u001b[0m \u001b[1m57s\u001b[0m 343ms/step - accuracy: 0.9876 - loss: 0.0677 - val_accuracy: 0.9891 - val_loss: 0.0467 - learning_rate: 0.0010\n",
      "Epoch 9/20\n",
      "\u001b[1m167/167\u001b[0m \u001b[32m━━━━━━━━━━━━━━━━━━━━\u001b[0m\u001b[37m\u001b[0m \u001b[1m57s\u001b[0m 341ms/step - accuracy: 0.9872 - loss: 0.0566 - val_accuracy: 0.9842 - val_loss: 0.0601 - learning_rate: 5.0000e-04\n",
      "Epoch 10/20\n",
      "\u001b[1m167/167\u001b[0m \u001b[32m━━━━━━━━━━━━━━━━━━━━\u001b[0m\u001b[37m\u001b[0m \u001b[1m59s\u001b[0m 352ms/step - accuracy: 0.9893 - loss: 0.0443 - val_accuracy: 0.9929 - val_loss: 0.0373 - learning_rate: 5.0000e-04\n",
      "Epoch 11/20\n",
      "\u001b[1m167/167\u001b[0m \u001b[32m━━━━━━━━━━━━━━━━━━━━\u001b[0m\u001b[37m\u001b[0m \u001b[1m71s\u001b[0m 424ms/step - accuracy: 0.9947 - loss: 0.0293 - val_accuracy: 0.9936 - val_loss: 0.0253 - learning_rate: 5.0000e-04\n",
      "Epoch 12/20\n",
      "\u001b[1m167/167\u001b[0m \u001b[32m━━━━━━━━━━━━━━━━━━━━\u001b[0m\u001b[37m\u001b[0m \u001b[1m72s\u001b[0m 432ms/step - accuracy: 0.9986 - loss: 0.0105 - val_accuracy: 0.9929 - val_loss: 0.0284 - learning_rate: 5.0000e-04\n",
      "Epoch 13/20\n",
      "\u001b[1m167/167\u001b[0m \u001b[32m━━━━━━━━━━━━━━━━━━━━\u001b[0m\u001b[37m\u001b[0m \u001b[1m67s\u001b[0m 400ms/step - accuracy: 0.9978 - loss: 0.0139 - val_accuracy: 0.9929 - val_loss: 0.0201 - learning_rate: 5.0000e-04\n",
      "Epoch 14/20\n",
      "\u001b[1m167/167\u001b[0m \u001b[32m━━━━━━━━━━━━━━━━━━━━\u001b[0m\u001b[37m\u001b[0m \u001b[1m68s\u001b[0m 409ms/step - accuracy: 0.9987 - loss: 0.0087 - val_accuracy: 0.9932 - val_loss: 0.0197 - learning_rate: 5.0000e-04\n",
      "Epoch 15/20\n",
      "\u001b[1m167/167\u001b[0m \u001b[32m━━━━━━━━━━━━━━━━━━━━\u001b[0m\u001b[37m\u001b[0m \u001b[1m64s\u001b[0m 386ms/step - accuracy: 0.9986 - loss: 0.0089 - val_accuracy: 0.9895 - val_loss: 0.0272 - learning_rate: 5.0000e-04\n",
      "Epoch 16/20\n",
      "\u001b[1m167/167\u001b[0m \u001b[32m━━━━━━━━━━━━━━━━━━━━\u001b[0m\u001b[37m\u001b[0m \u001b[1m68s\u001b[0m 404ms/step - accuracy: 0.9988 - loss: 0.0074 - val_accuracy: 0.9917 - val_loss: 0.0273 - learning_rate: 5.0000e-04\n"
     ]
    }
   ],
   "source": [
    "\n",
    "# Train the model\n",
    "history = spam_model.fit(train_sequences, train_Y,\n",
    "                    validation_split=0.2,\n",
    "                    epochs=20, \n",
    "                    batch_size=64,\n",
    "                    callbacks = [lr, es]\n",
    "                   )"
   ]
  },
  {
   "cell_type": "markdown",
   "metadata": {},
   "source": [
    "### Evaluate the model"
   ]
  },
  {
   "cell_type": "code",
   "execution_count": 113,
   "metadata": {},
   "outputs": [
    {
     "name": "stdout",
     "output_type": "stream",
     "text": [
      "\u001b[1m105/105\u001b[0m \u001b[32m━━━━━━━━━━━━━━━━━━━━\u001b[0m\u001b[37m\u001b[0m \u001b[1m10s\u001b[0m 95ms/step - accuracy: 0.9882 - loss: 0.0546\n",
      "Test Loss : 0.05096309259533882\n",
      "Test Accuracy : 0.9876987934112549\n"
     ]
    }
   ],
   "source": [
    "test_loss, test_accuracy = spam_model.evaluate(test_sequences, test_Y)\n",
    "print('Test Loss :',test_loss)\n",
    "print('Test Accuracy :',test_accuracy)"
   ]
  },
  {
   "cell_type": "code",
   "execution_count": 114,
   "metadata": {},
   "outputs": [
    {
     "data": {
      "image/png": "[encoded data removed]",
      "text/plain": [
       "<Figure size 640x480 with 1 Axes>"
      ]
     },
     "metadata": {},
     "output_type": "display_data"
    },
    {
     "data": {
      "image/png": "[encoded data removed]",
      "text/plain": [
       "<Figure size 640x480 with 1 Axes>"
      ]
     },
     "metadata": {},
     "output_type": "display_data"
    },
    {
     "data": {
      "text/plain": [
       "(None, None)"
      ]
     },
     "execution_count": 114,
     "metadata": {},
     "output_type": "execute_result"
    }
   ],
   "source": [
    "evaluation.plot_model_accuracy(history), evaluation.plot_model_loss(history)"
   ]
  },
  {
   "cell_type": "markdown",
   "metadata": {},
   "source": [
    "### Test Model"
   ]
  },
  {
   "cell_type": "code",
   "execution_count": 116,
   "metadata": {},
   "outputs": [
    {
     "name": "stdout",
     "output_type": "stream",
     "text": [
      "\u001b[1m105/105\u001b[0m \u001b[32m━━━━━━━━━━━━━━━━━━━━\u001b[0m\u001b[37m\u001b[0m \u001b[1m8s\u001b[0m 73ms/step\n"
     ]
    }
   ],
   "source": [
    "prediction = spam_model.predict(test_sequences)\n",
    "prediction = [1 if p > 0.5 else 0 for p in prediction]"
   ]
  },
  {
   "cell_type": "code",
   "execution_count": 117,
   "metadata": {},
   "outputs": [
    {
     "data": {
      "text/html": [
       "<div>\n",
       "<style scoped>\n",
       "    .dataframe tbody tr th:only-of-type {\n",
       "        vertical-align: middle;\n",
       "    }\n",
       "\n",
       "    .dataframe tbody tr th {\n",
       "        vertical-align: top;\n",
       "    }\n",
       "\n",
       "    .dataframe thead th {\n",
       "        text-align: right;\n",
       "    }\n",
       "</style>\n",
       "<table border=\"1\" class=\"dataframe\">\n",
       "  <thead>\n",
       "    <tr style=\"text-align: right;\">\n",
       "      <th></th>\n",
       "      <th>input</th>\n",
       "      <th>label</th>\n",
       "      <th>prediction</th>\n",
       "    </tr>\n",
       "  </thead>\n",
       "  <tbody>\n",
       "    <tr>\n",
       "      <th>47</th>\n",
       "      <td>paliourg fw  my wife made me buy this  enlarg...</td>\n",
       "      <td>1</td>\n",
       "      <td>1</td>\n",
       "    </tr>\n",
       "    <tr>\n",
       "      <th>5804</th>\n",
       "      <td>sometimes  not always  i like the idea of a c...</td>\n",
       "      <td>1</td>\n",
       "      <td>1</td>\n",
       "    </tr>\n",
       "    <tr>\n",
       "      <th>7530</th>\n",
       "      <td>earn huge profits starting today mc ncxb ueyt...</td>\n",
       "      <td>1</td>\n",
       "      <td>1</td>\n",
       "    </tr>\n",
       "    <tr>\n",
       "      <th>2099</th>\n",
       "      <td>are you in the mood xghtmtggc  viagra  xenica...</td>\n",
       "      <td>1</td>\n",
       "      <td>1</td>\n",
       "    </tr>\n",
       "    <tr>\n",
       "      <th>16253</th>\n",
       "      <td>request notice  htmlbody  sorry for taking so...</td>\n",
       "      <td>1</td>\n",
       "      <td>1</td>\n",
       "    </tr>\n",
       "    <tr>\n",
       "      <th>...</th>\n",
       "      <td>...</td>\n",
       "      <td>...</td>\n",
       "      <td>...</td>\n",
       "    </tr>\n",
       "    <tr>\n",
       "      <th>9621</th>\n",
       "      <td>equistar  just sold some same day  today   ga...</td>\n",
       "      <td>0</td>\n",
       "      <td>0</td>\n",
       "    </tr>\n",
       "    <tr>\n",
       "      <th>11600</th>\n",
       "      <td>help needed  be burdened no more    hello   w...</td>\n",
       "      <td>1</td>\n",
       "      <td>1</td>\n",
       "    </tr>\n",
       "    <tr>\n",
       "      <th>2548</th>\n",
       "      <td>re  unify  thanks for the update  i also want...</td>\n",
       "      <td>0</td>\n",
       "      <td>0</td>\n",
       "    </tr>\n",
       "    <tr>\n",
       "      <th>11384</th>\n",
       "      <td>finessing  numbers    75  off for all new sof...</td>\n",
       "      <td>1</td>\n",
       "      <td>1</td>\n",
       "    </tr>\n",
       "    <tr>\n",
       "      <th>7488</th>\n",
       "      <td>shrugging  cormier     95  0 ff for  all  v  ...</td>\n",
       "      <td>1</td>\n",
       "      <td>1</td>\n",
       "    </tr>\n",
       "  </tbody>\n",
       "</table>\n",
       "<p>3333 rows × 3 columns</p>\n",
       "</div>"
      ],
      "text/plain": [
       "                                                   input  label  prediction\n",
       "47      paliourg fw  my wife made me buy this  enlarg...      1           1\n",
       "5804    sometimes  not always  i like the idea of a c...      1           1\n",
       "7530    earn huge profits starting today mc ncxb ueyt...      1           1\n",
       "2099    are you in the mood xghtmtggc  viagra  xenica...      1           1\n",
       "16253   request notice  htmlbody  sorry for taking so...      1           1\n",
       "...                                                  ...    ...         ...\n",
       "9621    equistar  just sold some same day  today   ga...      0           0\n",
       "11600   help needed  be burdened no more    hello   w...      1           1\n",
       "2548    re  unify  thanks for the update  i also want...      0           0\n",
       "11384   finessing  numbers    75  off for all new sof...      1           1\n",
       "7488    shrugging  cormier     95  0 ff for  all  v  ...      1           1\n",
       "\n",
       "[3333 rows x 3 columns]"
      ]
     },
     "execution_count": 117,
     "metadata": {},
     "output_type": "execute_result"
    }
   ],
   "source": [
    "#compare the prediction with the actual label\n",
    "result = pd.DataFrame({'input': test_X, 'label': test_Y, 'prediction': prediction})\n",
    "result"
   ]
  },
  {
   "cell_type": "code",
   "execution_count": 118,
   "metadata": {},
   "outputs": [
    {
     "name": "stdout",
     "output_type": "stream",
     "text": [
      "\u001b[1m105/105\u001b[0m \u001b[32m━━━━━━━━━━━━━━━━━━━━\u001b[0m\u001b[37m\u001b[0m \u001b[1m6s\u001b[0m 60ms/step\n",
      "Accuracy: 0.9876987698769877\n",
      "Precision: 0.9848668280871671\n",
      "Recall: 0.9902617163724894\n",
      "F1 Score: 0.9875569044006071\n",
      "Balanced Accuracy: 0.9877344084821027\n"
     ]
    },
    {
     "data": {
      "image/png": "[encoded data removed]",
      "text/plain": [
       "<Figure size 640x480 with 2 Axes>"
      ]
     },
     "metadata": {},
     "output_type": "display_data"
    },
    {
     "name": "stdout",
     "output_type": "stream",
     "text": [
      "\n",
      "Classification Report:\n",
      "\n",
      "              precision    recall  f1-score   support\n",
      "\n",
      "    Negative       0.99      0.99      0.99      1690\n",
      "    Positive       0.98      0.99      0.99      1643\n",
      "\n",
      "    accuracy                           0.99      3333\n",
      "   macro avg       0.99      0.99      0.99      3333\n",
      "weighted avg       0.99      0.99      0.99      3333\n",
      "\n"
     ]
    }
   ],
   "source": [
    "evaluation.evaluate_model_performance(spam_model,test_sequences,test_Y)"
   ]
  },
  {
   "cell_type": "code",
   "execution_count": 119,
   "metadata": {},
   "outputs": [],
   "source": [
    "#save the model\n",
    "spam_model.save('spam_filter/model_1.keras')"
   ]
  },
  {
   "cell_type": "markdown",
   "metadata": {},
   "source": [
    "### Analyze Errors"
   ]
  },
  {
   "cell_type": "code",
   "execution_count": 120,
   "metadata": {},
   "outputs": [
    {
     "data": {
      "text/html": [
       "<div>\n",
       "<style scoped>\n",
       "    .dataframe tbody tr th:only-of-type {\n",
       "        vertical-align: middle;\n",
       "    }\n",
       "\n",
       "    .dataframe tbody tr th {\n",
       "        vertical-align: top;\n",
       "    }\n",
       "\n",
       "    .dataframe thead th {\n",
       "        text-align: right;\n",
       "    }\n",
       "</style>\n",
       "<table border=\"1\" class=\"dataframe\">\n",
       "  <thead>\n",
       "    <tr style=\"text-align: right;\">\n",
       "      <th></th>\n",
       "      <th>input</th>\n",
       "      <th>label</th>\n",
       "      <th>prediction</th>\n",
       "    </tr>\n",
       "  </thead>\n",
       "  <tbody>\n",
       "    <tr>\n",
       "      <th>9640</th>\n",
       "      <td>great article  mpgs will put you in jail  r  ...</td>\n",
       "      <td>1</td>\n",
       "      <td>0</td>\n",
       "    </tr>\n",
       "    <tr>\n",
       "      <th>3852</th>\n",
       "      <td>thanks for letting me know daughter artillery...</td>\n",
       "      <td>1</td>\n",
       "      <td>0</td>\n",
       "    </tr>\n",
       "    <tr>\n",
       "      <th>4280</th>\n",
       "      <td>entex increase rom   huntsville  woodlands  c...</td>\n",
       "      <td>0</td>\n",
       "      <td>1</td>\n",
       "    </tr>\n",
       "    <tr>\n",
       "      <th>6348</th>\n",
       "      <td>re  invitation for review a paper for the iee...</td>\n",
       "      <td>1</td>\n",
       "      <td>0</td>\n",
       "    </tr>\n",
       "    <tr>\n",
       "      <th>12446</th>\n",
       "      <td>real estate accountant  hey guys  can you hel...</td>\n",
       "      <td>0</td>\n",
       "      <td>1</td>\n",
       "    </tr>\n",
       "  </tbody>\n",
       "</table>\n",
       "</div>"
      ],
      "text/plain": [
       "                                                   input  label  prediction\n",
       "9640    great article  mpgs will put you in jail  r  ...      1           0\n",
       "3852    thanks for letting me know daughter artillery...      1           0\n",
       "4280    entex increase rom   huntsville  woodlands  c...      0           1\n",
       "6348    re  invitation for review a paper for the iee...      1           0\n",
       "12446   real estate accountant  hey guys  can you hel...      0           1"
      ]
     },
     "execution_count": 120,
     "metadata": {},
     "output_type": "execute_result"
    }
   ],
   "source": [
    "false_predictions = result[result['label'] != result['prediction']]\n",
    "false_predictions.head()"
   ]
  },
  {
   "cell_type": "code",
   "execution_count": 121,
   "metadata": {},
   "outputs": [
    {
     "name": "stderr",
     "output_type": "stream",
     "text": [
      "C:\\Users\\marle\\AppData\\Local\\Temp\\ipykernel_6396\\3339270336.py:1: SettingWithCopyWarning: \n",
      "A value is trying to be set on a copy of a slice from a DataFrame.\n",
      "Try using .loc[row_indexer,col_indexer] = value instead\n",
      "\n",
      "See the caveats in the documentation: https://pandas.pydata.org/pandas-docs/stable/user_guide/indexing.html#returning-a-view-versus-a-copy\n",
      "  false_predictions['text_length'] = false_predictions['input'].apply(len)\n"
     ]
    },
    {
     "data": {
      "image/png": "[encoded data removed]",
      "text/plain": [
       "<Figure size 640x480 with 1 Axes>"
      ]
     },
     "metadata": {},
     "output_type": "display_data"
    }
   ],
   "source": [
    "\n",
    "\n",
    "false_predictions['text_length'] = false_predictions['input'].apply(len)\n",
    "false_predictions['text_length'].hist(bins=20)\n",
    "plt.title('Text Length Distribution in Misclassified Examples')\n",
    "plt.xlabel('Text Length')\n",
    "plt.ylabel('Frequency')\n",
    "plt.show()"
   ]
  },
  {
   "cell_type": "code",
   "execution_count": 7,
   "metadata": {},
   "outputs": [
    {
     "data": {
      "text/plain": [
       "<module 'preprocessing' from 'c:\\\\Users\\\\marle\\\\OneDrive\\\\TU Berlin\\\\2. Semester\\\\Smart Security Lab\\\\Unit_1_Spam_Filtering\\\\Task_1\\\\preprocessing.py'>"
      ]
     },
     "execution_count": 7,
     "metadata": {},
     "output_type": "execute_result"
    }
   ],
   "source": [
    "import importlib\n",
    "importlib.reload(preprocessing)"
   ]
  },
  {
   "cell_type": "code",
   "execution_count": 5,
   "metadata": {},
   "outputs": [],
   "source": [
    "#load model\n",
    "spam_model = load_model('spam_filter/model_1.keras')"
   ]
  },
  {
   "cell_type": "code",
   "execution_count": 14,
   "metadata": {},
   "outputs": [],
   "source": [
    "# Load the data\n",
    "path = \"data/spam1-test.zip\"\n",
    "input, filenames = preprocessing.load_test_data(path)\n",
    "df = pd.DataFrame({'raw': input, 'output': filenames})\n",
    "df[\"preprocessed\"] = df[\"raw\"].copy()\n",
    "df[\"preprocessed\"] = df[\"preprocessed\"].apply(preprocessing.clean_data)\n"
   ]
  },
  {
   "cell_type": "code",
   "execution_count": 15,
   "metadata": {},
   "outputs": [
    {
     "name": "stdout",
     "output_type": "stream",
     "text": [
      "\u001b[1m471/471\u001b[0m \u001b[32m━━━━━━━━━━━━━━━━━━━━\u001b[0m\u001b[37m\u001b[0m \u001b[1m18s\u001b[0m 37ms/step\n"
     ]
    },
    {
     "data": {
      "text/html": [
       "<div>\n",
       "<style scoped>\n",
       "    .dataframe tbody tr th:only-of-type {\n",
       "        vertical-align: middle;\n",
       "    }\n",
       "\n",
       "    .dataframe tbody tr th {\n",
       "        vertical-align: top;\n",
       "    }\n",
       "\n",
       "    .dataframe thead th {\n",
       "        text-align: right;\n",
       "    }\n",
       "</style>\n",
       "<table border=\"1\" class=\"dataframe\">\n",
       "  <thead>\n",
       "    <tr style=\"text-align: right;\">\n",
       "      <th></th>\n",
       "      <th>raw</th>\n",
       "      <th>output</th>\n",
       "      <th>preprocessed</th>\n",
       "    </tr>\n",
       "  </thead>\n",
       "  <tbody>\n",
       "    <tr>\n",
       "      <th>0</th>\n",
       "      <td>Subject: books about thailand\\r\\nhello\\r\\nplan...</td>\n",
       "      <td>data/spam1-test/vuzprzfggkwyrrpd.x</td>\n",
       "      <td>books about thailand  hello  planning a trip ...</td>\n",
       "    </tr>\n",
       "    <tr>\n",
       "      <th>1</th>\n",
       "      <td>Subject: an interview\\r\\nshirley ,\\r\\nplease s...</td>\n",
       "      <td>data/spam1-test/cyepacmlgppblghl.x</td>\n",
       "      <td>an interview  shirley   please schedule an in...</td>\n",
       "    </tr>\n",
       "    <tr>\n",
       "      <th>2</th>\n",
       "      <td>Subject: energy futures contracts project\\r\\nh...</td>\n",
       "      <td>data/spam1-test/jojkaiztwzuisryw.x</td>\n",
       "      <td>energy futures contracts project  hi vince an...</td>\n",
       "    </tr>\n",
       "    <tr>\n",
       "      <th>3</th>\n",
       "      <td>Subject: cowtrap allocation - 4 / 01\\r\\ni rece...</td>\n",
       "      <td>data/spam1-test/qwvwzlvblxpsxvsj.x</td>\n",
       "      <td>cowtrap allocation  4  01  i received the abo...</td>\n",
       "    </tr>\n",
       "    <tr>\n",
       "      <th>4</th>\n",
       "      <td>Subject: we have your home depot gift card wai...</td>\n",
       "      <td>data/spam1-test/epjykmkxgsdztlpt.x</td>\n",
       "      <td>we have your home depot gift card waiting   c...</td>\n",
       "    </tr>\n",
       "    <tr>\n",
       "      <th>...</th>\n",
       "      <td>...</td>\n",
       "      <td>...</td>\n",
       "      <td>...</td>\n",
       "    </tr>\n",
       "    <tr>\n",
       "      <th>15046</th>\n",
       "      <td>Subject: start date : 1 / 26 / 02 ; hourahead ...</td>\n",
       "      <td>data/spam1-test/fqukrpxmiwelnmeu.x</td>\n",
       "      <td>start date  1  26  02  hourahead hour  11   s...</td>\n",
       "    </tr>\n",
       "    <tr>\n",
       "      <th>15047</th>\n",
       "      <td>Subject: revised agenda for management committ...</td>\n",
       "      <td>data/spam1-test/ivhcbrejybqaaqzb.x</td>\n",
       "      <td>revised agenda for management committee offsi...</td>\n",
       "    </tr>\n",
       "    <tr>\n",
       "      <th>15048</th>\n",
       "      <td>Subject: re : henwood - ny\\r\\n$ 17 , 000 , inc...</td>\n",
       "      <td>data/spam1-test/bypgmwcwmtcrfyrx.x</td>\n",
       "      <td>re  henwood  ny   17  000  includes most majo...</td>\n",
       "    </tr>\n",
       "    <tr>\n",
       "      <th>15049</th>\n",
       "      <td>Subject: the national forum on corporate finan...</td>\n",
       "      <td>data/spam1-test/kbixvzexurfcalrw.x</td>\n",
       "      <td>the national forum on corporate finance  mr  ...</td>\n",
       "    </tr>\n",
       "    <tr>\n",
       "      <th>15050</th>\n",
       "      <td>Subject: re : loa - message from fred lange\\r\\...</td>\n",
       "      <td>data/spam1-test/ynvpoikmzukloajn.x</td>\n",
       "      <td>re  loa  message from fred lange  brett   ron...</td>\n",
       "    </tr>\n",
       "  </tbody>\n",
       "</table>\n",
       "<p>15051 rows × 3 columns</p>\n",
       "</div>"
      ],
      "text/plain": [
       "                                                     raw  \\\n",
       "0      Subject: books about thailand\\r\\nhello\\r\\nplan...   \n",
       "1      Subject: an interview\\r\\nshirley ,\\r\\nplease s...   \n",
       "2      Subject: energy futures contracts project\\r\\nh...   \n",
       "3      Subject: cowtrap allocation - 4 / 01\\r\\ni rece...   \n",
       "4      Subject: we have your home depot gift card wai...   \n",
       "...                                                  ...   \n",
       "15046  Subject: start date : 1 / 26 / 02 ; hourahead ...   \n",
       "15047  Subject: revised agenda for management committ...   \n",
       "15048  Subject: re : henwood - ny\\r\\n$ 17 , 000 , inc...   \n",
       "15049  Subject: the national forum on corporate finan...   \n",
       "15050  Subject: re : loa - message from fred lange\\r\\...   \n",
       "\n",
       "                                   output  \\\n",
       "0      data/spam1-test/vuzprzfggkwyrrpd.x   \n",
       "1      data/spam1-test/cyepacmlgppblghl.x   \n",
       "2      data/spam1-test/jojkaiztwzuisryw.x   \n",
       "3      data/spam1-test/qwvwzlvblxpsxvsj.x   \n",
       "4      data/spam1-test/epjykmkxgsdztlpt.x   \n",
       "...                                   ...   \n",
       "15046  data/spam1-test/fqukrpxmiwelnmeu.x   \n",
       "15047  data/spam1-test/ivhcbrejybqaaqzb.x   \n",
       "15048  data/spam1-test/bypgmwcwmtcrfyrx.x   \n",
       "15049  data/spam1-test/kbixvzexurfcalrw.x   \n",
       "15050  data/spam1-test/ynvpoikmzukloajn.x   \n",
       "\n",
       "                                            preprocessed  \n",
       "0       books about thailand  hello  planning a trip ...  \n",
       "1       an interview  shirley   please schedule an in...  \n",
       "2       energy futures contracts project  hi vince an...  \n",
       "3       cowtrap allocation  4  01  i received the abo...  \n",
       "4       we have your home depot gift card waiting   c...  \n",
       "...                                                  ...  \n",
       "15046   start date  1  26  02  hourahead hour  11   s...  \n",
       "15047   revised agenda for management committee offsi...  \n",
       "15048   re  henwood  ny   17  000  includes most majo...  \n",
       "15049   the national forum on corporate finance  mr  ...  \n",
       "15050   re  loa  message from fred lange  brett   ron...  \n",
       "\n",
       "[15051 rows x 3 columns]"
      ]
     },
     "execution_count": 15,
     "metadata": {},
     "output_type": "execute_result"
    }
   ],
   "source": [
    "\n",
    "sequences = tokenizer.texts_to_sequences(df[\"preprocessed\"])\n",
    "input_sequences = pad_sequences(sequences, maxlen=max_len, padding='post', truncating='post')\n",
    "predictions = spam_model.predict(input_sequences)\n",
    "predictions = [1 if p > 0.5 else 0 for p in predictions]\n",
    "\n",
    "\n",
    "df"
   ]
  },
  {
   "cell_type": "code",
   "execution_count": 16,
   "metadata": {},
   "outputs": [
    {
     "data": {
      "text/html": [
       "<div>\n",
       "<style scoped>\n",
       "    .dataframe tbody tr th:only-of-type {\n",
       "        vertical-align: middle;\n",
       "    }\n",
       "\n",
       "    .dataframe tbody tr th {\n",
       "        vertical-align: top;\n",
       "    }\n",
       "\n",
       "    .dataframe thead th {\n",
       "        text-align: right;\n",
       "    }\n",
       "</style>\n",
       "<table border=\"1\" class=\"dataframe\">\n",
       "  <thead>\n",
       "    <tr style=\"text-align: right;\">\n",
       "      <th></th>\n",
       "      <th>raw</th>\n",
       "      <th>output</th>\n",
       "      <th>preprocessed</th>\n",
       "      <th>prediction</th>\n",
       "    </tr>\n",
       "  </thead>\n",
       "  <tbody>\n",
       "    <tr>\n",
       "      <th>0</th>\n",
       "      <td>Subject: books about thailand\\r\\nhello\\r\\nplan...</td>\n",
       "      <td>data/spam1-test/vuzprzfggkwyrrpd.x;1</td>\n",
       "      <td>books about thailand  hello  planning a trip ...</td>\n",
       "      <td>1</td>\n",
       "    </tr>\n",
       "    <tr>\n",
       "      <th>1</th>\n",
       "      <td>Subject: an interview\\r\\nshirley ,\\r\\nplease s...</td>\n",
       "      <td>data/spam1-test/cyepacmlgppblghl.x;0</td>\n",
       "      <td>an interview  shirley   please schedule an in...</td>\n",
       "      <td>0</td>\n",
       "    </tr>\n",
       "    <tr>\n",
       "      <th>2</th>\n",
       "      <td>Subject: energy futures contracts project\\r\\nh...</td>\n",
       "      <td>data/spam1-test/jojkaiztwzuisryw.x;0</td>\n",
       "      <td>energy futures contracts project  hi vince an...</td>\n",
       "      <td>0</td>\n",
       "    </tr>\n",
       "    <tr>\n",
       "      <th>3</th>\n",
       "      <td>Subject: cowtrap allocation - 4 / 01\\r\\ni rece...</td>\n",
       "      <td>data/spam1-test/qwvwzlvblxpsxvsj.x;0</td>\n",
       "      <td>cowtrap allocation  4  01  i received the abo...</td>\n",
       "      <td>0</td>\n",
       "    </tr>\n",
       "    <tr>\n",
       "      <th>4</th>\n",
       "      <td>Subject: we have your home depot gift card wai...</td>\n",
       "      <td>data/spam1-test/epjykmkxgsdztlpt.x;1</td>\n",
       "      <td>we have your home depot gift card waiting   c...</td>\n",
       "      <td>1</td>\n",
       "    </tr>\n",
       "    <tr>\n",
       "      <th>...</th>\n",
       "      <td>...</td>\n",
       "      <td>...</td>\n",
       "      <td>...</td>\n",
       "      <td>...</td>\n",
       "    </tr>\n",
       "    <tr>\n",
       "      <th>15046</th>\n",
       "      <td>Subject: start date : 1 / 26 / 02 ; hourahead ...</td>\n",
       "      <td>data/spam1-test/fqukrpxmiwelnmeu.x;0</td>\n",
       "      <td>start date  1  26  02  hourahead hour  11   s...</td>\n",
       "      <td>0</td>\n",
       "    </tr>\n",
       "    <tr>\n",
       "      <th>15047</th>\n",
       "      <td>Subject: revised agenda for management committ...</td>\n",
       "      <td>data/spam1-test/ivhcbrejybqaaqzb.x;0</td>\n",
       "      <td>revised agenda for management committee offsi...</td>\n",
       "      <td>0</td>\n",
       "    </tr>\n",
       "    <tr>\n",
       "      <th>15048</th>\n",
       "      <td>Subject: re : henwood - ny\\r\\n$ 17 , 000 , inc...</td>\n",
       "      <td>data/spam1-test/bypgmwcwmtcrfyrx.x;0</td>\n",
       "      <td>re  henwood  ny   17  000  includes most majo...</td>\n",
       "      <td>0</td>\n",
       "    </tr>\n",
       "    <tr>\n",
       "      <th>15049</th>\n",
       "      <td>Subject: the national forum on corporate finan...</td>\n",
       "      <td>data/spam1-test/kbixvzexurfcalrw.x;0</td>\n",
       "      <td>the national forum on corporate finance  mr  ...</td>\n",
       "      <td>0</td>\n",
       "    </tr>\n",
       "    <tr>\n",
       "      <th>15050</th>\n",
       "      <td>Subject: re : loa - message from fred lange\\r\\...</td>\n",
       "      <td>data/spam1-test/ynvpoikmzukloajn.x;0</td>\n",
       "      <td>re  loa  message from fred lange  brett   ron...</td>\n",
       "      <td>0</td>\n",
       "    </tr>\n",
       "  </tbody>\n",
       "</table>\n",
       "<p>15051 rows × 4 columns</p>\n",
       "</div>"
      ],
      "text/plain": [
       "                                                     raw  \\\n",
       "0      Subject: books about thailand\\r\\nhello\\r\\nplan...   \n",
       "1      Subject: an interview\\r\\nshirley ,\\r\\nplease s...   \n",
       "2      Subject: energy futures contracts project\\r\\nh...   \n",
       "3      Subject: cowtrap allocation - 4 / 01\\r\\ni rece...   \n",
       "4      Subject: we have your home depot gift card wai...   \n",
       "...                                                  ...   \n",
       "15046  Subject: start date : 1 / 26 / 02 ; hourahead ...   \n",
       "15047  Subject: revised agenda for management committ...   \n",
       "15048  Subject: re : henwood - ny\\r\\n$ 17 , 000 , inc...   \n",
       "15049  Subject: the national forum on corporate finan...   \n",
       "15050  Subject: re : loa - message from fred lange\\r\\...   \n",
       "\n",
       "                                     output  \\\n",
       "0      data/spam1-test/vuzprzfggkwyrrpd.x;1   \n",
       "1      data/spam1-test/cyepacmlgppblghl.x;0   \n",
       "2      data/spam1-test/jojkaiztwzuisryw.x;0   \n",
       "3      data/spam1-test/qwvwzlvblxpsxvsj.x;0   \n",
       "4      data/spam1-test/epjykmkxgsdztlpt.x;1   \n",
       "...                                     ...   \n",
       "15046  data/spam1-test/fqukrpxmiwelnmeu.x;0   \n",
       "15047  data/spam1-test/ivhcbrejybqaaqzb.x;0   \n",
       "15048  data/spam1-test/bypgmwcwmtcrfyrx.x;0   \n",
       "15049  data/spam1-test/kbixvzexurfcalrw.x;0   \n",
       "15050  data/spam1-test/ynvpoikmzukloajn.x;0   \n",
       "\n",
       "                                            preprocessed  prediction  \n",
       "0       books about thailand  hello  planning a trip ...           1  \n",
       "1       an interview  shirley   please schedule an in...           0  \n",
       "2       energy futures contracts project  hi vince an...           0  \n",
       "3       cowtrap allocation  4  01  i received the abo...           0  \n",
       "4       we have your home depot gift card waiting   c...           1  \n",
       "...                                                  ...         ...  \n",
       "15046   start date  1  26  02  hourahead hour  11   s...           0  \n",
       "15047   revised agenda for management committee offsi...           0  \n",
       "15048   re  henwood  ny   17  000  includes most majo...           0  \n",
       "15049   the national forum on corporate finance  mr  ...           0  \n",
       "15050   re  loa  message from fred lange  brett   ron...           0  \n",
       "\n",
       "[15051 rows x 4 columns]"
      ]
     },
     "execution_count": 16,
     "metadata": {},
     "output_type": "execute_result"
    }
   ],
   "source": [
    "df['prediction'] = predictions\n",
    "df['output'] = df['output'].astype(str) + ';' + df['prediction'].astype(str)\n",
    "df"
   ]
  },
  {
   "cell_type": "markdown",
   "metadata": {},
   "source": [
    "### Create CSV from output"
   ]
  },
  {
   "cell_type": "code",
   "execution_count": 19,
   "metadata": {},
   "outputs": [],
   "source": [
    "df[\"output\"].to_csv('results/output.csv', index=False, header=False)"
   ]
  }
 ],
 "metadata": {
  "kernelspec": {
   "display_name": "Python 3",
   "language": "python",
   "name": "python3"
  },
  "language_info": {
   "codemirror_mode": {
    "name": "ipython",
    "version": 3
   },
   "file_extension": ".py",
   "mimetype": "text/x-python",
   "name": "python",
   "nbconvert_exporter": "python",
   "pygments_lexer": "ipython3",
   "version": "3.11.4"
  }
 },
 "nbformat": 4,
 "nbformat_minor": 2
}
